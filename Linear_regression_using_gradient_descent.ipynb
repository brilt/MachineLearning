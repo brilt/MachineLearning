{
  "nbformat": 4,
  "nbformat_minor": 0,
  "metadata": {
    "colab": {
      "provenance": [],
      "authorship_tag": "ABX9TyNXHBsfz2Do4iGgKHnowyXT",
      "include_colab_link": true
    },
    "kernelspec": {
      "name": "python3",
      "display_name": "Python 3"
    },
    "language_info": {
      "name": "python"
    }
  },
  "cells": [
    {
      "cell_type": "markdown",
      "metadata": {
        "id": "view-in-github",
        "colab_type": "text"
      },
      "source": [
        "<a href=\"https://colab.research.google.com/github/brilt/MachineLearning/blob/Linear-regression-from-scratch/Linear_regression_using_gradient_descent.ipynb\" target=\"_parent\"><img src=\"https://colab.research.google.com/assets/colab-badge.svg\" alt=\"Open In Colab\"/></a>"
      ]
    },
    {
      "cell_type": "code",
      "source": [
        "#The optimal values of m and b can be actually calculated with way less effort than doing a linear regression. \n",
        "#this is just to demonstrate gradient descent\n",
        "\n",
        "from numpy import *"
      ],
      "metadata": {
        "id": "TJoPWVU0aTAI"
      },
      "execution_count": 1,
      "outputs": []
    },
    {
      "cell_type": "code",
      "source": [
        "# y = mx + b\n",
        "# m is slope, b is y-intercept\n",
        "def compute_error_for_line_given_points(b, m, points):\n",
        "    totalError = 0\n",
        "    for i in range(0, len(points)):\n",
        "        x = points[i, 0]\n",
        "        y = points[i, 1]\n",
        "        totalError += (y - (m * x + b)) ** 2\n",
        "    return totalError / float(len(points))"
      ],
      "metadata": {
        "id": "Jt3lYQkaaTeP"
      },
      "execution_count": 2,
      "outputs": []
    },
    {
      "cell_type": "code",
      "source": [
        "def step_gradient(b_current, m_current, points, learningRate):\n",
        "    b_gradient = 0\n",
        "    m_gradient = 0\n",
        "    N = float(len(points))\n",
        "    for i in range(0, len(points)):\n",
        "        x = points[i, 0]\n",
        "        y = points[i, 1]\n",
        "        #summ partial derivative of each points\n",
        "        b_gradient += -(2/N) * (y - ((m_current * x) + b_current))\n",
        "        m_gradient += -(2/N) * x * (y - ((m_current * x) + b_current))\n",
        "    new_b = b_current - (learningRate * b_gradient)\n",
        "    new_m = m_current - (learningRate * m_gradient)\n",
        "    return [new_b, new_m]"
      ],
      "metadata": {
        "id": "8yUoB3HGaaCE"
      },
      "execution_count": 3,
      "outputs": []
    },
    {
      "cell_type": "code",
      "source": [
        "def gradient_descent_runner(points, starting_b, starting_m, learning_rate, num_iterations):\n",
        "    b = starting_b\n",
        "    m = starting_m\n",
        "    for i in range(num_iterations):\n",
        "        b, m = step_gradient(b, m, array(points), learning_rate)\n",
        "    return [b, m]"
      ],
      "metadata": {
        "id": "AdJMddYMaXAX"
      },
      "execution_count": 4,
      "outputs": []
    },
    {
      "cell_type": "code",
      "source": [
        "def run():\n",
        "    points = genfromtxt(\"data.csv\", delimiter=\",\")\n",
        "    learning_rate = 0.0001\n",
        "    initial_b = 0 # initial y-intercept guess\n",
        "    initial_m = 0 # initial slope guess\n",
        "    num_iterations = 1000\n",
        "    print (\"Starting gradient descent at b = {0}, m = {1}, error = {2}\".format(initial_b, initial_m, compute_error_for_line_given_points(initial_b, initial_m, points)))\n",
        "    print (\"Running...\")\n",
        "    [b, m] = gradient_descent_runner(points, initial_b, initial_m, learning_rate, num_iterations)\n",
        "    print (\"After {0} iterations b = {1}, m = {2}, error = {3}\".format(num_iterations, b, m, compute_error_for_line_given_points(b, m, points)))"
      ],
      "metadata": {
        "id": "bUlwpxBOaMbc"
      },
      "execution_count": 5,
      "outputs": []
    },
    {
      "cell_type": "code",
      "execution_count": 6,
      "metadata": {
        "colab": {
          "base_uri": "https://localhost:8080/"
        },
        "id": "2hXVFbdwaLh9",
        "outputId": "74a790a3-dad1-4584-ad32-379abff14b2c"
      },
      "outputs": [
        {
          "output_type": "stream",
          "name": "stdout",
          "text": [
            "Starting gradient descent at b = 0, m = 0, error = 5565.107834483211\n",
            "Running...\n",
            "After 10000 iterations b = 0.08893631736009773, m = 1.4777440891710403, error = 112.61481023700442\n"
          ]
        }
      ],
      "source": [
        "if __name__ == '__main__':\n",
        "    run()"
      ]
    }
  ]
}